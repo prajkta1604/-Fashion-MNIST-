{
 "cells": [
  {
   "cell_type": "code",
   "execution_count": 1,
   "id": "f57de912",
   "metadata": {},
   "outputs": [],
   "source": [
    "from keras.datasets import fashion_mnist"
   ]
  },
  {
   "cell_type": "code",
   "execution_count": 2,
   "id": "19790e95",
   "metadata": {},
   "outputs": [],
   "source": [
    "(fas_train_x, fas_train_y), (fas_test_x,fas_test_y) = fashion_mnist.load_data()"
   ]
  },
  {
   "cell_type": "code",
   "execution_count": 3,
   "id": "e4717118",
   "metadata": {},
   "outputs": [],
   "source": [
    "from keras.models import Sequential\n",
    "from keras.layers import Conv2D, MaxPool2D, Flatten, Dense, Dropout\n",
    "from tensorflow.keras.utils import to_categorical\n",
    "import pandas as pd\n",
    "import numpy as np\n",
    "import tensorflow as tf"
   ]
  },
  {
   "cell_type": "code",
   "execution_count": 4,
   "id": "8e49fbf4",
   "metadata": {},
   "outputs": [],
   "source": [
    "from keras.models import Sequential\n",
    "from keras.layers import Conv2D, MaxPool2D, Flatten, Dense, Dropout\n",
    "from tensorflow.keras.utils import to_categorical\n",
    "import pandas as pd\n",
    "import numpy as np\n",
    "import tensorflow as tf"
   ]
  },
  {
   "cell_type": "code",
   "execution_count": 5,
   "id": "880409fe",
   "metadata": {},
   "outputs": [],
   "source": [
    "fas_train_x = tf.keras.utils.normalize(fas_train_x)\n",
    "fas_train_y = to_categorical(fas_train_y)"
   ]
  },
  {
   "cell_type": "code",
   "execution_count": 36,
   "id": "c20a4083",
   "metadata": {},
   "outputs": [
    {
     "name": "stderr",
     "output_type": "stream",
     "text": [
      "C:\\Users\\shubh\\AppData\\Roaming\\Python\\Python310\\site-packages\\keras\\src\\layers\\convolutional\\base_conv.py:99: UserWarning: Do not pass an `input_shape`/`input_dim` argument to a layer. When using Sequential models, prefer using an `Input(shape)` object as the first layer in the model instead.\n",
      "  super().__init__(\n"
     ]
    }
   ],
   "source": [
    "model=Sequential()\n",
    "model.add(Conv2D(filters=128,kernel_size=(5,5),activation='relu',padding='same',input_shape=(28,28,1)))\n",
    "model.add(MaxPool2D(pool_size=(2,2)))\n",
    "model.add(Conv2D(filters=128,kernel_size=(5,5),activation='relu'))\n",
    "model.add(MaxPool2D(pool_size=(2,2)))\n",
    "model.add(Flatten())\n",
    "model.add(Dense(256,activation='relu'))\n",
    "model.add(Dropout(0.2))\n",
    "model.add(Dense(10,activation='softmax'))"
   ]
  },
  {
   "cell_type": "code",
   "execution_count": 37,
   "id": "e3be0079",
   "metadata": {},
   "outputs": [],
   "source": [
    "adam=tf.keras.optimizers.Adam(learning_rate=0.01)\n",
    "model.compile(optimizer='adam',loss='categorical_crossentropy',metrics=['accuracy'])"
   ]
  },
  {
   "cell_type": "code",
   "execution_count": 38,
   "id": "e6be1e7e",
   "metadata": {},
   "outputs": [
    {
     "name": "stdout",
     "output_type": "stream",
     "text": [
      "Epoch 1/10\n",
      "\u001b[1m1500/1500\u001b[0m \u001b[32m━━━━━━━━━━━━━━━━━━━━\u001b[0m\u001b[37m\u001b[0m \u001b[1m144s\u001b[0m 94ms/step - accuracy: 0.7813 - loss: 0.5966 - val_accuracy: 0.8844 - val_loss: 0.3183\n",
      "Epoch 2/10\n",
      "\u001b[1m1500/1500\u001b[0m \u001b[32m━━━━━━━━━━━━━━━━━━━━\u001b[0m\u001b[37m\u001b[0m \u001b[1m114s\u001b[0m 76ms/step - accuracy: 0.8946 - loss: 0.2808 - val_accuracy: 0.8779 - val_loss: 0.3342\n",
      "Epoch 3/10\n",
      "\u001b[1m1500/1500\u001b[0m \u001b[32m━━━━━━━━━━━━━━━━━━━━\u001b[0m\u001b[37m\u001b[0m \u001b[1m69s\u001b[0m 46ms/step - accuracy: 0.9105 - loss: 0.2417 - val_accuracy: 0.8993 - val_loss: 0.2712\n",
      "Epoch 4/10\n",
      "\u001b[1m1500/1500\u001b[0m \u001b[32m━━━━━━━━━━━━━━━━━━━━\u001b[0m\u001b[37m\u001b[0m \u001b[1m70s\u001b[0m 46ms/step - accuracy: 0.9235 - loss: 0.2037 - val_accuracy: 0.9160 - val_loss: 0.2411\n",
      "Epoch 5/10\n",
      "\u001b[1m1500/1500\u001b[0m \u001b[32m━━━━━━━━━━━━━━━━━━━━\u001b[0m\u001b[37m\u001b[0m \u001b[1m70s\u001b[0m 47ms/step - accuracy: 0.9351 - loss: 0.1731 - val_accuracy: 0.9153 - val_loss: 0.2354\n",
      "Epoch 6/10\n",
      "\u001b[1m1500/1500\u001b[0m \u001b[32m━━━━━━━━━━━━━━━━━━━━\u001b[0m\u001b[37m\u001b[0m \u001b[1m69s\u001b[0m 46ms/step - accuracy: 0.9441 - loss: 0.1489 - val_accuracy: 0.9168 - val_loss: 0.2445\n",
      "Epoch 7/10\n",
      "\u001b[1m1500/1500\u001b[0m \u001b[32m━━━━━━━━━━━━━━━━━━━━\u001b[0m\u001b[37m\u001b[0m \u001b[1m69s\u001b[0m 46ms/step - accuracy: 0.9512 - loss: 0.1277 - val_accuracy: 0.9168 - val_loss: 0.2551\n",
      "Epoch 8/10\n",
      "\u001b[1m1500/1500\u001b[0m \u001b[32m━━━━━━━━━━━━━━━━━━━━\u001b[0m\u001b[37m\u001b[0m \u001b[1m70s\u001b[0m 47ms/step - accuracy: 0.9573 - loss: 0.1128 - val_accuracy: 0.9172 - val_loss: 0.2727\n",
      "Epoch 9/10\n",
      "\u001b[1m1500/1500\u001b[0m \u001b[32m━━━━━━━━━━━━━━━━━━━━\u001b[0m\u001b[37m\u001b[0m \u001b[1m141s\u001b[0m 94ms/step - accuracy: 0.9619 - loss: 0.1004 - val_accuracy: 0.9129 - val_loss: 0.2889\n",
      "Epoch 10/10\n",
      "\u001b[1m1500/1500\u001b[0m \u001b[32m━━━━━━━━━━━━━━━━━━━━\u001b[0m\u001b[37m\u001b[0m \u001b[1m140s\u001b[0m 94ms/step - accuracy: 0.9679 - loss: 0.0848 - val_accuracy: 0.9228 - val_loss: 0.2918\n"
     ]
    },
    {
     "data": {
      "text/plain": [
       "<keras.src.callbacks.history.History at 0x22973ffe500>"
      ]
     },
     "execution_count": 38,
     "metadata": {},
     "output_type": "execute_result"
    }
   ],
   "source": [
    "model.fit(fas_train_x,fas_train_y,validation_split=.2,epochs=10)"
   ]
  },
  {
   "cell_type": "code",
   "execution_count": 39,
   "id": "11729ee4",
   "metadata": {},
   "outputs": [
    {
     "name": "stdout",
     "output_type": "stream",
     "text": [
      "\u001b[1m313/313\u001b[0m \u001b[32m━━━━━━━━━━━━━━━━━━━━\u001b[0m\u001b[37m\u001b[0m \u001b[1m10s\u001b[0m 30ms/step\n"
     ]
    }
   ],
   "source": [
    "y_pred = model.predict(fas_test_x)"
   ]
  },
  {
   "cell_type": "code",
   "execution_count": 40,
   "id": "27865063",
   "metadata": {},
   "outputs": [],
   "source": [
    "y_pred_classes = np.argmax(y_pred, axis=1)"
   ]
  },
  {
   "cell_type": "code",
   "execution_count": 41,
   "id": "3da3ffca",
   "metadata": {},
   "outputs": [],
   "source": [
    "from sklearn.metrics import confusion_matrix"
   ]
  },
  {
   "cell_type": "code",
   "execution_count": 42,
   "id": "1c26f141",
   "metadata": {},
   "outputs": [],
   "source": [
    "tab1=confusion_matrix(fas_test_y,y_pred_classes)"
   ]
  },
  {
   "cell_type": "code",
   "execution_count": 43,
   "id": "d9e1de98",
   "metadata": {},
   "outputs": [
    {
     "data": {
      "text/plain": [
       "array([[821,   2,  16,  13,   6,   3, 135,   0,   4,   0],\n",
       "       [  2, 978,   1,  12,   3,   0,   3,   0,   1,   0],\n",
       "       [ 15,   1, 731,   8,  91,   0, 154,   0,   0,   0],\n",
       "       [ 14,   4,   7, 903,  24,   0,  44,   0,   4,   0],\n",
       "       [  1,   1,  52,  38, 762,   0, 145,   0,   1,   0],\n",
       "       [  1,   0,   0,   0,   0, 992,   0,   4,   1,   2],\n",
       "       [110,   1,  32,  23,  35,   0, 791,   0,   8,   0],\n",
       "       [  0,   0,   0,   0,   0, 106,   0, 867,   1,  26],\n",
       "       [ 17,   3,   4,   3,  12,   5,   9,   0, 947,   0],\n",
       "       [  0,   0,   1,   0,   0,  26,   0,  28,   0, 945]], dtype=int64)"
      ]
     },
     "execution_count": 43,
     "metadata": {},
     "output_type": "execute_result"
    }
   ],
   "source": [
    "tab1"
   ]
  },
  {
   "cell_type": "code",
   "execution_count": 44,
   "id": "478f28a1",
   "metadata": {},
   "outputs": [],
   "source": [
    "from sklearn.metrics import precision_score , recall_score, f1_score, accuracy_score,classification_report"
   ]
  },
  {
   "cell_type": "code",
   "execution_count": 45,
   "id": "b1c437f6",
   "metadata": {},
   "outputs": [
    {
     "name": "stdout",
     "output_type": "stream",
     "text": [
      "              precision    recall  f1-score   support\n",
      "\n",
      "           0       0.84      0.82      0.83      1000\n",
      "           1       0.99      0.98      0.98      1000\n",
      "           2       0.87      0.73      0.79      1000\n",
      "           3       0.90      0.90      0.90      1000\n",
      "           4       0.82      0.76      0.79      1000\n",
      "           5       0.88      0.99      0.93      1000\n",
      "           6       0.62      0.79      0.69      1000\n",
      "           7       0.96      0.87      0.91      1000\n",
      "           8       0.98      0.95      0.96      1000\n",
      "           9       0.97      0.94      0.96      1000\n",
      "\n",
      "    accuracy                           0.87     10000\n",
      "   macro avg       0.88      0.87      0.88     10000\n",
      "weighted avg       0.88      0.87      0.88     10000\n",
      "\n"
     ]
    }
   ],
   "source": [
    "print(classification_report(fas_test_y,y_pred_classes))"
   ]
  },
  {
   "cell_type": "code",
   "execution_count": null,
   "id": "04da24f6",
   "metadata": {},
   "outputs": [],
   "source": []
  },
  {
   "cell_type": "code",
   "execution_count": null,
   "id": "14e6de0b",
   "metadata": {},
   "outputs": [],
   "source": []
  }
 ],
 "metadata": {
  "kernelspec": {
   "display_name": "Python 3 (ipykernel)",
   "language": "python",
   "name": "python3"
  },
  "language_info": {
   "codemirror_mode": {
    "name": "ipython",
    "version": 3
   },
   "file_extension": ".py",
   "mimetype": "text/x-python",
   "name": "python",
   "nbconvert_exporter": "python",
   "pygments_lexer": "ipython3",
   "version": "3.10.9"
  }
 },
 "nbformat": 4,
 "nbformat_minor": 5
}
